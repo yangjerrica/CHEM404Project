{
 "cells": [
  {
   "cell_type": "code",
   "execution_count": null,
   "id": "95059df9",
   "metadata": {},
   "outputs": [],
   "source": [
    "import numpy as np\n",
    "from numba import njit\n",
    "from timeit import default_timer as timer\n",
    "from matplotlib import pyplot as plt\n",
    "import re"
   ]
  },
  {
   "cell_type": "markdown",
   "id": "3500ac61",
   "metadata": {},
   "source": [
    "## Extracting Energy for Energy vs time graph"
   ]
  },
  {
   "cell_type": "code",
   "execution_count": null,
   "id": "e79957e7",
   "metadata": {},
   "outputs": [],
   "source": [
    "file_path = 'B3LYP_6-31G_5000_0.24.txt'\n",
    "target_string = 'ETot'  "
   ]
  },
  {
   "cell_type": "code",
   "execution_count": null,
   "id": "dc78aafc",
   "metadata": {},
   "outputs": [],
   "source": [
    "def extract_line_with_string(file_path, target_string):\n",
    "    Etot_line=[]\n",
    "    with open(file_path, 'r') as file:\n",
    "        lines = file.readlines()\n",
    "        for line in lines:\n",
    "            if target_string in line:\n",
    "                Etot_line.append(line)\n",
    "        return Etot_line"
   ]
  },
  {
   "cell_type": "code",
   "execution_count": null,
   "id": "98b7aa02",
   "metadata": {},
   "outputs": [],
   "source": [
    "extracted_line = extract_line_with_string(file_path, target_string)\n",
    "print(f\"Extracted line {target_string}: {extracted_line}\")"
   ]
  },
  {
   "cell_type": "code",
   "execution_count": null,
   "id": "d5cced70",
   "metadata": {},
   "outputs": [],
   "source": [
    "def extract_etot_values(lines):\n",
    "    etot_values = []\n",
    "    pattern = r'ETot\\s*=\\s*(-?\\d+\\.\\d+)'\n",
    "    for line in lines:\n",
    "        etot_match = re.search(pattern, line)\n",
    "        if etot_match:\n",
    "            etot_values.append(float(etot_match.group(1)))\n",
    "    return etot_values"
   ]
  },
  {
   "cell_type": "code",
   "execution_count": null,
   "id": "8db308ba",
   "metadata": {},
   "outputs": [],
   "source": [
    "etot_array = np.array(extract_etot_values(extracted_line))\n",
    "type(etot_array)\n",
    "etot_array.shape\n",
    "print(etot_array)"
   ]
  },
  {
   "cell_type": "code",
   "execution_count": null,
   "id": "5865aeef",
   "metadata": {},
   "outputs": [],
   "source": [
    "max(etot_array)\n",
    "j=0\n",
    "for i in etot_array:\n",
    "    if i == -343.3490922:\n",
    "        print(j)\n",
    "    else: j +=1\n",
    "        "
   ]
  },
  {
   "cell_type": "code",
   "execution_count": null,
   "id": "12b362dc",
   "metadata": {},
   "outputs": [],
   "source": [
    "def second_largest(numbers):\n",
    "    sec = []\n",
    "    sorted_numbers = sorted(numbers, reverse=True)\n",
    "    for i in sorted_numbers:\n",
    "        if i < -343.3:\n",
    "            sec.append(i)\n",
    "    return sec"
   ]
  },
  {
   "cell_type": "code",
   "execution_count": null,
   "id": "491a632e",
   "metadata": {},
   "outputs": [],
   "source": [
    "sec_larg = second_largest(etot_array[1100:])\n",
    "max(sec_larg)"
   ]
  },
  {
   "cell_type": "code",
   "execution_count": null,
   "id": "f61920d5",
   "metadata": {},
   "outputs": [],
   "source": [
    "max_steps = len(etot_array)\n",
    "max_steps\n",
    "dt=0.1\n",
    "time = max_steps*dt"
   ]
  },
  {
   "cell_type": "code",
   "execution_count": null,
   "id": "2a96aa6f",
   "metadata": {},
   "outputs": [],
   "source": [
    "x = np.arange(0, time, 0.1, dtype=float)\n",
    "y = etot_array\n",
    "\n",
    "plt.figure()\n",
    "plt.scatter(x,y,s=15)\n",
    "plt.ticklabel_format(style='plain',useMathText=True)\n",
    "plt.title(\"Relation between Potential Energy and time\")\n",
    "plt.xlabel(\"Time (fs)\")\n",
    "plt.ylabel(\"Potential Energy (Hartree)\")\n",
    "\n",
    "plt.legend()\n",
    "\n",
    "plt.show()"
   ]
  },
  {
   "cell_type": "markdown",
   "id": "da95c185",
   "metadata": {},
   "source": [
    "## Extractin input orientation for the .xyz file for VMD"
   ]
  },
  {
   "cell_type": "code",
   "execution_count": null,
   "id": "20281a0e",
   "metadata": {},
   "outputs": [],
   "source": [
    "start_string = \"Input orientation:\"\n",
    "start_line = 0"
   ]
  },
  {
   "cell_type": "code",
   "execution_count": null,
   "id": "e5a73a46",
   "metadata": {},
   "outputs": [],
   "source": [
    "def extract_table_from_file(file_path, start_string, start_line, num_lines=12,skipped_lines = 4):\n",
    "    table_data = []\n",
    "    is_table_started = False\n",
    "    i = 0\n",
    "    try:\n",
    "        with open(file_path, 'r') as file:\n",
    "            lines = file.readlines()\n",
    "            for line in lines[start_line:]:\n",
    "                i+=1\n",
    "                if start_string in line:\n",
    "                    is_table_started = True\n",
    "                    continue  # Skip the line containing the start string\n",
    "                elif is_table_started and skipped_lines > 0:\n",
    "                    skipped_lines -=1\n",
    "                    continue\n",
    "                elif is_table_started and line.strip() and num_lines > 0 and skipped_lines ==0:\n",
    "                    table_data.append(line.strip().split())  # Assuming the table is space-separated\n",
    "                    num_lines -= 1\n",
    "                elif num_lines == 0:\n",
    "                    break  # Stop extracting lines once num_lines becomes 0\n",
    "                    \n",
    "    except FileNotFoundError:\n",
    "        print(f\"Error: File '{file_path}' not found.\")\n",
    "        return None\n",
    "    except Exception as e:\n",
    "        print(f\"An error occurred: {str(e)}\")\n",
    "        return None\n",
    "    \n",
    "    return table_data, i\n"
   ]
  },
  {
   "cell_type": "code",
   "execution_count": null,
   "id": "167779b5",
   "metadata": {},
   "outputs": [],
   "source": [
    "table_data = extract_table_from_file(file_path, start_string, start_line)\n",
    "each_table = table_data[0]\n",
    "current_line = table_data[1]\n",
    "\n",
    "if table_data:\n",
    "    print(\"Extracted Table:\")\n",
    "    for row in table_data:\n",
    "        print(row)\n",
    "else:\n",
    "    print(\"Table data extraction failed.\")"
   ]
  },
  {
   "cell_type": "markdown",
   "id": "76c88adc",
   "metadata": {},
   "source": [
    "## Extracting Bond Distance between the molecules"
   ]
  },
  {
   "cell_type": "code",
   "execution_count": null,
   "id": "1243b008",
   "metadata": {},
   "outputs": [],
   "source": [
    "#extracting bond distance\n",
    "def extract_bond_distance(file_path, start_string, start_line, num_lines=16,skipped_lines = 1):\n",
    "    table_data = []\n",
    "    is_table_started = False\n",
    "    i = 0\n",
    "    try:\n",
    "        with open(file_path, 'r') as file:\n",
    "            lines = file.readlines()\n",
    "            for line in lines[start_line:]:\n",
    "                i+=1\n",
    "                if start_string in line:\n",
    "                    is_table_started = True\n",
    "                    continue  # Skip the line containing the start string\n",
    "                elif is_table_started and skipped_lines > 0:\n",
    "                    skipped_lines -=1\n",
    "                    continue\n",
    "                elif is_table_started and line.strip() and num_lines > 0 and skipped_lines ==0:\n",
    "                    table_data.append(line.strip().split())  # Assuming the table is space-separated\n",
    "                    num_lines -= 1\n",
    "                elif num_lines == 0:\n",
    "                    break  # Stop extracting lines once num_lines becomes 0\n",
    "                    \n",
    "    except FileNotFoundError:\n",
    "        print(f\"Error: File '{file_path}' not found.\")\n",
    "        return None\n",
    "    except Exception as e:\n",
    "        print(f\"An error occurred: {str(e)}\")\n",
    "        return None\n",
    "    \n",
    "    return table_data, i"
   ]
  },
  {
   "cell_type": "code",
   "execution_count": null,
   "id": "43360076",
   "metadata": {},
   "outputs": [],
   "source": [
    "start_line_bd = 0\n",
    "start_string_bd = \"Distance matrix (angstroms):\"\n",
    "max_steps = 5001"
   ]
  },
  {
   "cell_type": "code",
   "execution_count": null,
   "id": "3011a407",
   "metadata": {},
   "outputs": [],
   "source": [
    "bd = extract_bond_distance(file_path, start_string_bd, start_line_bd)"
   ]
  },
  {
   "cell_type": "code",
   "execution_count": null,
   "id": "c6180565",
   "metadata": {},
   "outputs": [],
   "source": [
    "big_table = []\n",
    "bd_table = []\n",
    "i=0\n",
    "current_line = 0\n",
    "current_line_bd = 0\n",
    "while i < max_steps:\n",
    "    \n",
    "    table_data = extract_table_from_file(file_path, start_string, current_line)\n",
    "    big_table.append(table_data[0])\n",
    "    bd = extract_bond_distance(file_path, start_string_bd, current_line_bd)\n",
    "    bd_table.append(bd[0])\n",
    "    #print(\"total lines of the table\",table_data[1])\n",
    "    current_line += table_data[1]\n",
    "    current_line_bd += bd[1]\n",
    "    #print(\"current line\",current_line)\n",
    "    i+=1\n",
    "    print(i)\n",
    "    "
   ]
  },
  {
   "cell_type": "code",
   "execution_count": null,
   "id": "80375e0f",
   "metadata": {},
   "outputs": [],
   "source": [
    "len(big_table)\n",
    "processed_data = [[[i2 for i2 in item[1:]] for item in sublist] for sublist in big_table]\n",
    "len(processed_data)\n",
    "\n",
    "\n",
    "converted_data = [['C' if i[0] == '6' else 'H' if i[0] == '1' else 'O' for i in sublist] \n",
    " for sublist in processed_data]\n",
    "\n",
    "converted_data[0][1]\n",
    "processed_data"
   ]
  },
  {
   "cell_type": "code",
   "execution_count": null,
   "id": "9db53104",
   "metadata": {},
   "outputs": [],
   "source": [
    "# Output file path\n",
    "output_file_path = 'B3LYP_6-31G_5000_0.24.xyz'\n",
    "\n",
    "# Write data to XYZ file\n",
    "with open(output_file_path, 'w') as file:\n",
    "    i=0\n",
    "    num_atoms = 12\n",
    "    j = 0\n",
    "    for table in processed_data:\n",
    "        file.write(f\"{num_atoms}\\n\")\n",
    "        file.write(\"step \"+ str(j)+ \"\\n\")\n",
    "        for atoms in table:\n",
    "            \n",
    "            atom_label = converted_data[0][i]\n",
    "            x, y, z = map(float, atoms[2:])\n",
    "            file.write(f\"{atom_label} {x} {y} {z}\\n\")\n",
    "            i+=1\n",
    "        i = 0\n",
    "        j+=1"
   ]
  },
  {
   "cell_type": "code",
   "execution_count": null,
   "id": "d5cefdc5",
   "metadata": {},
   "outputs": [],
   "source": [
    "def extract_spec_bond(input_data, target_A, target_B):\n",
    "    wanted_BD = []\n",
    "    for table in input_data:\n",
    "        line = table[target_A-1]\n",
    "        wanted_BD.append(line[target_B+1])\n",
    "    return wanted_BD"
   ]
  },
  {
   "cell_type": "code",
   "execution_count": null,
   "id": "6ce8a617",
   "metadata": {},
   "outputs": [],
   "source": [
    "print(len(bd_table))\n",
    "wanted = np.array(extract_spec_bond(bd_table,2,1))\n",
    "bd_table"
   ]
  },
  {
   "cell_type": "code",
   "execution_count": null,
   "id": "ec0a5bf9",
   "metadata": {},
   "outputs": [],
   "source": [
    "type(wanted)\n",
    "print(wanted[0:100])"
   ]
  },
  {
   "cell_type": "code",
   "execution_count": null,
   "id": "07d9a777",
   "metadata": {},
   "outputs": [],
   "source": [
    "#oxygen= O7, hydrogen= H8\n",
    "def extract_OH_bond(input_data, target_A, target_B):\n",
    "    wanted_BD = []\n",
    "    for table in input_data:\n",
    "        line = table[target_A+7]\n",
    "        wanted_BD.append(line[target_B-4])\n",
    "    return wanted_BD"
   ]
  },
  {
   "cell_type": "code",
   "execution_count": null,
   "id": "07ffea87",
   "metadata": {},
   "outputs": [],
   "source": [
    "#C1C2\n",
    "wanted_float = wanted.astype(float)\n",
    "x = np.arange(0, time, 0.1, dtype=float)\n",
    "# Create a scatter plot\n",
    "plt.scatter(x, wanted_float, s=1)\n",
    "\n",
    "# Set axis labels\n",
    "\n",
    "plt.xlabel(\"Time (fs)\")\n",
    "plt.ylabel('Bond Distance (angstrom)')\n",
    "\n",
    "# Show the plot\n",
    "plt.show()"
   ]
  },
  {
   "cell_type": "code",
   "execution_count": null,
   "id": "c4fb7944",
   "metadata": {
    "scrolled": false
   },
   "outputs": [],
   "source": [
    "O7H8 = np.array(extract_OH_bond(bd_table, 8, 7))\n",
    "x = np.arange(0, time, 0.1, dtype=float)\n",
    "plt.scatter(x, O7H8.astype(float), s = 1)\n",
    "\n",
    "\n",
    "# Set axis labels\n",
    "\n",
    "plt.xlabel(\"Time (fs)\")\n",
    "plt.ylabel('Bond Distance (angstrom)')\n",
    "\n",
    "# Show the plot\n",
    "plt.show()"
   ]
  },
  {
   "cell_type": "code",
   "execution_count": null,
   "id": "dd0c66d5",
   "metadata": {},
   "outputs": [],
   "source": [
    "C3C2 = np.array(extract_spec_bond(bd_table,3,2))\n",
    "O4C3 = np.array(extract_spec_bond(bd_table, 4, 3))\n",
    "O7C2 = np.array(extract_spec_bond(bd_table, 7, 2))\n",
    "O6C3 = np.array(extract_spec_bond(bd_table, 6, 3))\n",
    "\n",
    "# Create a scatter plot\n",
    "x = np.arange(0, time, 0.1, dtype=float)\n",
    "#plt.scatter(x, O4C3.astype(float), color = 'red',label = 'O4C3', s = 1)\n",
    "#plt.scatter(x, C3C2.astype(float), color = 'purple',label = 'C3C2', s = 1)\n",
    "plt.scatter(x, O7H8.astype(float),label = 'O7H8', s = 1)\n",
    "\n",
    "plt.legend()\n",
    "\n",
    "# Set axis labels\n",
    "plt.xlabel(\"Time (fs)\")\n",
    "plt.ylabel('Bond Distance (angstrom)')\n",
    "\n",
    "# Show the plot\n",
    "plt.show()"
   ]
  },
  {
   "cell_type": "code",
   "execution_count": null,
   "id": "baac7990",
   "metadata": {},
   "outputs": [],
   "source": [
    "def read_file(file_path):\n",
    "    # Initialize empty lists to store x and y values\n",
    "    x_values = []\n",
    "    y_values = []\n",
    "\n",
    "    # Read data from the text file\n",
    "    with open(file_path, 'r') as file:\n",
    "\n",
    "        for line in file:\n",
    "            # Assuming columns are separated by whitespace, you may need to adjust accordingly\n",
    "            columns = line.split()\n",
    "\n",
    "            # Convert the values to float\n",
    "            x_values.append(float(columns[0]))\n",
    "            y_values.append(float(columns[1]))\n",
    "    return x_values, y_values"
   ]
  },
  {
   "cell_type": "code",
   "execution_count": null,
   "id": "c718879c",
   "metadata": {},
   "outputs": [],
   "source": [
    "\n",
    "# Specify the file path\n",
    "file_path = 'data996.txt'  # Replace 'your_file.txt' with the actual path to your text file\n",
    "r1 = read_file(file_path)\n",
    "file_2 = 'data682.txt'  # Replace 'your_file.txt' with the actual path to your text file\n",
    "r2 = read_file(file_2)\n",
    "\n",
    "# Plot the data\n",
    "plt.plot(r1[0], r1[1], marker='o',label='step 996', linestyle='-', color='b', markersize=1)\n",
    "plt.plot(r2[0], r2[1], marker='o',label='step 682', linestyle='-', color='purple', markersize=1)\n",
    "plt.xlabel('steps')\n",
    "plt.ylabel('Energy (hatree)')\n",
    "plt.ylim(-343.65,-343.30)\n",
    "plt.title('Transition state optimization')\n",
    "plt.xlim(0,30)\n",
    "plt.grid(True)\n",
    "plt.legend()\n",
    "plt.show()\n",
    "\n",
    "y = max(y_values[10:])-y_values[12]\n",
    "y"
   ]
  }
 ],
 "metadata": {
  "kernelspec": {
   "display_name": "Python 3 (ipykernel)",
   "language": "python",
   "name": "python3"
  },
  "language_info": {
   "codemirror_mode": {
    "name": "ipython",
    "version": 3
   },
   "file_extension": ".py",
   "mimetype": "text/x-python",
   "name": "python",
   "nbconvert_exporter": "python",
   "pygments_lexer": "ipython3",
   "version": "3.10.10"
  }
 },
 "nbformat": 4,
 "nbformat_minor": 5
}
